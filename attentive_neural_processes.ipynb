{
 "cells": [
  {
   "cell_type": "markdown",
   "metadata": {},
   "source": [
    "## Ideas:\n",
    "- overlapping context and query to emph identity\n",
    "- Maybe the `attn=key-query` is enough?"
   ]
  },
  {
   "cell_type": "code",
   "execution_count": 1,
   "metadata": {},
   "outputs": [],
   "source": [
    "DETERMINISTIC=True\n",
    "NEW_ATTENTION=True"
   ]
  },
  {
   "cell_type": "code",
   "execution_count": 2,
   "metadata": {},
   "outputs": [],
   "source": [
    "import math\n",
    "import matplotlib.pyplot as plt\n",
    "import numpy as np\n",
    "from numpy import sinc\n",
    "import pytorch_lightning as pl\n",
    "from pytorch_lightning.loggers import MLFlowLogger\n",
    "import random\n",
    "import torch\n",
    "import torch.nn as nn\n",
    "from torch.utils.data import DataLoader, Dataset\n",
    "from typing import Callable, Optional\n",
    "import warnings"
   ]
  },
  {
   "cell_type": "code",
   "execution_count": 3,
   "metadata": {},
   "outputs": [],
   "source": [
    "def sinc_family(a: Optional[float] = 1.,\n",
    "                b: Optional[float] = 1.,\n",
    "                c: Optional[float] = 0.,\n",
    "                d: Optional[float] = 0.\n",
    "               ) -> Callable:\n",
    "    return lambda x: a*sinc(b * x + c) + d\n",
    "\n",
    "def get_random_sinc_function() -> Callable:\n",
    "    a = 0.25 + 2 * random.random()\n",
    "    b = random.random()\n",
    "    c = 0\n",
    "    d = 0\n",
    "    return sinc_family(a, b, c, d)"
   ]
  },
  {
   "cell_type": "code",
   "execution_count": 4,
   "metadata": {},
   "outputs": [],
   "source": [
    "def get_random_sinc_samples(\n",
    "    num_samples: Optional[int] = 5,\n",
    "    lower: Optional[float] = -10,\n",
    "    upper: Optional[float] = 10,\n",
    "    ):\n",
    "    f = get_random_sinc_function()\n",
    "    xs = torch.tensor([random.uniform(lower, upper) for _ in range(num_samples)])\n",
    "    ys = torch.tensor(f(xs))\n",
    "    \n",
    "    return xs, ys, f\n",
    "    \n",
    "    "
   ]
  },
  {
   "cell_type": "code",
   "execution_count": 5,
   "metadata": {},
   "outputs": [
    {
     "data": {
      "image/png": "[encoded data removed]",
      "text/plain": [
       "<Figure size 432x288 with 1 Axes>"
      ]
     },
     "metadata": {
      "needs_background": "light"
     },
     "output_type": "display_data"
    }
   ],
   "source": [
    "x_samples, y_samples, f = get_random_sinc_samples()\n",
    "\n",
    "x = np.arange(-10, 10, .1)\n",
    "\n",
    "plt.plot(x, f(x))\n",
    "plt.scatter(x_samples, y_samples, c='r')\n",
    "plt.show()"
   ]
  },
  {
   "cell_type": "code",
   "execution_count": 6,
   "metadata": {},
   "outputs": [],
   "source": [
    "class SincDataset(Dataset):\n",
    "    def __init__(self, len: int,\n",
    "                 contexts: Optional[int] = 5,\n",
    "                 queries: Optional[int] = 3,\n",
    "                 lower: Optional[float] = -10,\n",
    "                 upper: Optional[float] = 10,\n",
    "                ):\n",
    "        self.len = len\n",
    "        self.lower = lower\n",
    "        self.upper = upper\n",
    "        self.contexts = contexts\n",
    "        self.queries = queries\n",
    "        \n",
    "        self._sample()\n",
    "        \n",
    "    def _sample(self):\n",
    "        self.samples = [get_random_sinc_samples(self.contexts + self.queries, self.lower, self.upper) for _ in range(self.len)]\n",
    "    \n",
    "    def __len__(self):\n",
    "        return self.len\n",
    "    \n",
    "    def __getitem__(self, idx):\n",
    "        xs, ys, f = self.samples[idx]\n",
    "\n",
    "        context_x, context_y = xs[:self.contexts], ys[:self.contexts]\n",
    "        queries_x, queries_y = xs[self.contexts:], ys[self.contexts:]\n",
    "        \n",
    "        return (context_x.unsqueeze(-1), context_y.unsqueeze(-1), queries_x.unsqueeze(-1)), queries_y.unsqueeze(-1)\n",
    "        \n",
    "        "
   ]
  },
  {
   "cell_type": "code",
   "execution_count": 7,
   "metadata": {},
   "outputs": [],
   "source": [
    "ds_dummy = SincDataset(10_000, contexts=50, queries=10)"
   ]
  },
  {
   "cell_type": "code",
   "execution_count": 8,
   "metadata": {},
   "outputs": [],
   "source": [
    "(context_x, context_y, queries_x), y = ds_dummy[random.randint(0, 10_000)]"
   ]
  },
  {
   "cell_type": "code",
   "execution_count": 9,
   "metadata": {},
   "outputs": [
    {
     "data": {
      "text/plain": [
       "<matplotlib.collections.PathCollection at 0x7fdfcaf581c0>"
      ]
     },
     "execution_count": 9,
     "metadata": {},
     "output_type": "execute_result"
    },
    {
     "data": {
      "image/png": "[encoded data removed]",
      "text/plain": [
       "<Figure size 432x288 with 1 Axes>"
      ]
     },
     "metadata": {
      "needs_background": "light"
     },
     "output_type": "display_data"
    }
   ],
   "source": [
    "plt.scatter(context_x, context_y, c='b')\n",
    "plt.scatter(queries_x, y, c='r')"
   ]
  },
  {
   "cell_type": "code",
   "execution_count": 10,
   "metadata": {},
   "outputs": [],
   "source": [
    "ds_train = SincDataset(100_000, contexts=10, queries=20)\n",
    "ds_valid = SincDataset(5_000, contexts=10, queries=20)"
   ]
  },
  {
   "cell_type": "code",
   "execution_count": 11,
   "metadata": {},
   "outputs": [],
   "source": [
    "dl_train = DataLoader(ds_train, batch_size=640, shuffle=True)\n",
    "dl_valid = DataLoader(ds_valid, batch_size=640, shuffle=False)"
   ]
  },
  {
   "cell_type": "code",
   "execution_count": 12,
   "metadata": {},
   "outputs": [],
   "source": [
    "(context_x, context_y, queries_x), y = next(iter(dl_train))"
   ]
  },
  {
   "cell_type": "code",
   "execution_count": 13,
   "metadata": {},
   "outputs": [
    {
     "data": {
      "text/plain": [
       "(torch.Size([640, 10, 1]),\n",
       " torch.Size([640, 10, 1]),\n",
       " torch.Size([640, 20, 1]),\n",
       " torch.Size([640, 20, 1]))"
      ]
     },
     "execution_count": 13,
     "metadata": {},
     "output_type": "execute_result"
    }
   ],
   "source": [
    "context_x.shape, context_y.shape, queries_x.shape, y.shape"
   ]
  },
  {
   "cell_type": "markdown",
   "metadata": {},
   "source": [
    "## Model"
   ]
  },
  {
   "cell_type": "markdown",
   "metadata": {},
   "source": [
    "```\n",
    "context x, context y, target x, target y\n",
    "torch.Size([16, 217, 2]) torch.Size([16, 217, 1]) torch.Size([16, 732, 2]) torch.Size([16, 732, 1])\n",
    "```"
   ]
  },
  {
   "cell_type": "code",
   "execution_count": 14,
   "metadata": {},
   "outputs": [],
   "source": [
    "class Linear(nn.Module):\n",
    "    \"\"\"\n",
    "    Linear Module\n",
    "    \"\"\"\n",
    "    def __init__(self, in_dim, out_dim, bias=True, w_init='linear'):\n",
    "        \"\"\"\n",
    "        :param in_dim: dimension of input\n",
    "        :param out_dim: dimension of output\n",
    "        :param bias: boolean. if True, bias is included.\n",
    "        :param w_init: str. weight inits with xavier initialization.\n",
    "        \"\"\"\n",
    "        super(Linear, self).__init__()\n",
    "        self.linear_layer = nn.Linear(in_dim, out_dim, bias=bias)\n",
    "\n",
    "        nn.init.xavier_uniform_(\n",
    "            self.linear_layer.weight,\n",
    "            gain=nn.init.calculate_gain(w_init))\n",
    "\n",
    "    def forward(self, x):\n",
    "        return self.linear_layer(x)\n",
    "\n",
    "class LatentEncoder(nn.Module):\n",
    "    \"\"\"\n",
    "    Latent Encoder [For prior, posterior]\n",
    "    \"\"\"\n",
    "    def __init__(self, num_hidden, num_latent, input_dim=2):\n",
    "        super(LatentEncoder, self).__init__()\n",
    "        self.input_projection = Linear(input_dim, num_hidden)\n",
    "        self.self_attentions = nn.ModuleList([Attention(num_hidden) for _ in range(2)])\n",
    "        self.penultimate_layer = Linear(num_hidden, num_hidden, w_init='relu')\n",
    "        self.mu = Linear(num_hidden, num_latent)\n",
    "        self.log_sigma = Linear(num_hidden, num_latent)\n",
    "\n",
    "    def forward(self, x, y):\n",
    "        # concat location (x) and value (y)\n",
    "        encoder_input = torch.cat([x,y], dim=-1)\n",
    "        \n",
    "        # project vector with dimension 3 --> num_hidden\n",
    "        encoder_input = self.input_projection(encoder_input)\n",
    "        \n",
    "        # self attention layer\n",
    "        for attention in self.self_attentions:\n",
    "            encoder_input, _ = attention(encoder_input, encoder_input, encoder_input)\n",
    "        \n",
    "        # mean\n",
    "        hidden = encoder_input.mean(dim=1)\n",
    "        hidden = torch.relu(self.penultimate_layer(hidden))\n",
    "        \n",
    "        # get mu and sigma\n",
    "        mu = self.mu(hidden)\n",
    "        log_sigma = self.log_sigma(hidden)\n",
    "        \n",
    "        # reparameterization trick\n",
    "        std = torch.exp(0.5 * log_sigma)\n",
    "        eps = torch.randn_like(std)\n",
    "        z = eps.mul(std).add_(mu)\n",
    "        \n",
    "        # return distribution\n",
    "        return mu, log_sigma, z\n",
    "    \n",
    "class DeterministicEncoder(nn.Module):\n",
    "    \"\"\"\n",
    "    Deterministic Encoder [r]\n",
    "    \"\"\"\n",
    "    def __init__(self, num_hidden, num_latent, input_dim=2, new_attention=NEW_ATTENTION, n_attention_layers=4):\n",
    "        super(DeterministicEncoder, self).__init__()\n",
    "        \n",
    "        if new_attention is False:\n",
    "            self.self_attentions = nn.ModuleList([Attention(num_hidden) for _ in range(n_attention_layers)])\n",
    "            self.cross_attentions = nn.ModuleList([Attention(num_hidden) for _ in range(n_attention_layers)])\n",
    "        else:\n",
    "            self.self_attentions = nn.ModuleList([NewAttention(num_hidden) for _ in range(n_attention_layers)])\n",
    "            self.cross_attentions = nn.ModuleList([NewAttention(num_hidden) for _ in range(n_attention_layers)])\n",
    "\n",
    "        self.input_projection = Linear(input_dim, num_hidden)\n",
    "        self.context_projection = Linear(1, num_hidden)  # TK 2->1 line below as well\n",
    "        self.target_projection = Linear(1, num_hidden)\n",
    "        self.new_attention = new_attention\n",
    "\n",
    "    def forward(self, context_x, context_y, target_x):\n",
    "        # concat context location (x), context value (y)\n",
    "        encoder_input = torch.cat([context_x,context_y], dim=-1)\n",
    "        \n",
    "        # project vector with dimension 3 --> num_hidden\n",
    "        encoder_input = self.input_projection(encoder_input)\n",
    "        \n",
    "        if self.new_attention is False:\n",
    "            # self attention layer\n",
    "            for attention in self.self_attentions:\n",
    "                encoder_input, _ = attention(encoder_input, encoder_input, encoder_input)\n",
    "\n",
    "            # query: target_x, key: context_x, value: representation\n",
    "            query = self.target_projection(target_x)\n",
    "            keys = self.context_projection(context_x)\n",
    "\n",
    "            # cross attention layer\n",
    "            for attention in self.cross_attentions:\n",
    "                query, _ = attention(keys, encoder_input, query)\n",
    "\n",
    "            return query\n",
    "        \n",
    "        else:\n",
    "            query = self.target_projection(target_x)\n",
    "            keys = self.context_projection(context_x)\n",
    "            for attention in self.cross_attentions:\n",
    "                query, _ = attention(keys, query, encoder_input, query)\n",
    "\n",
    "            return query\n",
    "\n",
    "class Decoder(nn.Module):\n",
    "    \"\"\"\n",
    "    Decoder for generation \n",
    "    \"\"\"\n",
    "    def __init__(self, num_hidden, deterministic = DETERMINISTIC):\n",
    "        self.input_vectors = 2 if deterministic is True else 3\n",
    "        \n",
    "        super(Decoder, self).__init__()\n",
    "        self.target_projection = Linear(1, num_hidden)  # TK 2->1\n",
    "        self.linears = nn.ModuleList([Linear(num_hidden * self.input_vectors, num_hidden * self.input_vectors, w_init='relu') for _ in range(3)])\n",
    "        self.final_projection = Linear(num_hidden * self.input_vectors, 1)\n",
    "        \n",
    "    def forward(self, r, z, target_x):\n",
    "        batch_size, num_targets, _ = target_x.size()\n",
    "        # project vector with dimension 2 --> num_hidden\n",
    "        target_x = self.target_projection(target_x)\n",
    "        \n",
    "        # concat all vectors (r,z,target_x)\n",
    "        if z is not None:\n",
    "            hidden = torch.cat([torch.cat([r,z], dim=-1), target_x], dim=-1)\n",
    "        else:\n",
    "            hidden = torch.cat([r, target_x], dim=-1)\n",
    "        \n",
    "        # mlp layers\n",
    "        for linear in self.linears:\n",
    "            hidden = torch.relu(linear(hidden))\n",
    "            \n",
    "        # get mu and sigma\n",
    "        y_pred = self.final_projection(hidden)\n",
    "        \n",
    "        return y_pred"
   ]
  },
  {
   "cell_type": "code",
   "execution_count": 15,
   "metadata": {},
   "outputs": [],
   "source": [
    "class LatentModel(nn.Module):\n",
    "    \"\"\"\n",
    "    Latent Model (Attentive Neural Process)\n",
    "    \"\"\"\n",
    "    def __init__(self, num_hidden, deterministic=True):\n",
    "        super(LatentModel, self).__init__()\n",
    "        self.deterministic = deterministic\n",
    "        if not self.deterministic:\n",
    "            self.latent_encoder = LatentEncoder(num_hidden, num_hidden)\n",
    "        self.deterministic_encoder = DeterministicEncoder(num_hidden, num_hidden)\n",
    "        self.decoder = Decoder(num_hidden, deterministic)\n",
    "        self.loss = nn.MSELoss()\n",
    "        \n",
    "    def forward(self, context_x, context_y, target_x, target_y=None):\n",
    "        num_targets = target_x.size(1)\n",
    "        \n",
    "        if self.deterministic is False:\n",
    "            prior_mu, prior_var, prior = self.latent_encoder(context_x, context_y)\n",
    "        \n",
    "            # For training\n",
    "            if target_y is not None:\n",
    "                posterior_mu, posterior_var, posterior = self.latent_encoder(target_x, target_y)\n",
    "                z = posterior\n",
    "        \n",
    "            # For Generation\n",
    "            else:\n",
    "                z = prior\n",
    "        \n",
    "            z = z.unsqueeze(1).repeat(1,num_targets,1) # [B, T_target, H]\n",
    "            \n",
    "        else:\n",
    "            z = None\n",
    "\n",
    "            \n",
    "        r = self.deterministic_encoder(context_x, context_y, target_x) # [B, T_target, H]\n",
    "        \n",
    "        # mu should be the prediction of target y\n",
    "        y_pred = self.decoder(r, z, target_x)\n",
    "        \n",
    "        # For Training\n",
    "        if target_y is not None:\n",
    "            # get log probability\n",
    "            loss = self.loss(y_pred, target_y)\n",
    "            \n",
    "            # get KL divergence between prior and posterior\n",
    "            kl = self.kl_div(prior_mu, prior_var, posterior_mu, posterior_var) if not self.deterministic else None\n",
    "            \n",
    "            # maximize prob and minimize KL divergence\n",
    "            loss = loss + kl if not self.deterministic else loss\n",
    "        \n",
    "        # For Generation\n",
    "        else:\n",
    "            log_p = None\n",
    "            kl = None\n",
    "            loss = None\n",
    "            \n",
    "        return y_pred, kl, loss\n",
    "    \n",
    "    def kl_div(self, prior_mu, prior_var, posterior_mu, posterior_var):\n",
    "        kl_div = (torch.exp(posterior_var) + (posterior_mu-prior_mu) ** 2) / torch.exp(prior_var) - 1. + (prior_var - posterior_var)\n",
    "        kl_div = 0.5 * kl_div.sum()\n",
    "        return kl_div"
   ]
  },
  {
   "cell_type": "markdown",
   "metadata": {},
   "source": [
    "## Original"
   ]
  },
  {
   "cell_type": "code",
   "execution_count": 16,
   "metadata": {},
   "outputs": [],
   "source": [
    "class MultiheadAttention(nn.Module):\n",
    "    \"\"\"\n",
    "    Multihead attention mechanism (dot attention)\n",
    "    \"\"\"\n",
    "    def __init__(self, num_hidden_k):\n",
    "        \"\"\"\n",
    "        :param num_hidden_k: dimension of hidden \n",
    "        \"\"\"\n",
    "        super(MultiheadAttention, self).__init__()\n",
    "        print(\"MultiheadAttention\")\n",
    "        self.num_hidden_k = num_hidden_k\n",
    "        self.attn_dropout = nn.Dropout(p=0.1)\n",
    "\n",
    "    def forward(self, key, value, query):\n",
    "\n",
    "        # Get attention score\n",
    "        attn = torch.bmm(query, key.transpose(1, 2))\n",
    "        attn = attn / math.sqrt(self.num_hidden_k)\n",
    "        \n",
    "        attn = torch.softmax(attn, dim=-1)\n",
    "\n",
    "        # Dropout\n",
    "        attn = self.attn_dropout(attn)\n",
    "        \n",
    "        # Get Context Vector\n",
    "        result = torch.bmm(attn, value)\n",
    "\n",
    "        return result, attn\n",
    "\n",
    "\n",
    "class Attention(nn.Module):\n",
    "    \"\"\"\n",
    "    Attention Network\n",
    "    \"\"\"\n",
    "    def __init__(self, num_hidden, h=8):\n",
    "        \"\"\"\n",
    "        :param num_hidden: dimension of hidden\n",
    "        :param h: num of heads \n",
    "        \"\"\"\n",
    "        super(Attention, self).__init__()\n",
    "        print(\"Attention\")\n",
    "        self.num_hidden = num_hidden\n",
    "        self.num_hidden_per_attn = num_hidden // h\n",
    "        self.h = h\n",
    "\n",
    "        self.key = Linear(num_hidden, num_hidden, bias=False)\n",
    "        self.value = Linear(num_hidden, num_hidden, bias=False)\n",
    "        self.query = Linear(num_hidden, num_hidden, bias=False)\n",
    "\n",
    "        self.multihead = MultiheadAttention(self.num_hidden_per_attn)\n",
    "\n",
    "        self.residual_dropout = nn.Dropout(p=0.1)\n",
    "\n",
    "        self.final_linear = Linear(num_hidden * 2, num_hidden)\n",
    "\n",
    "        self.layer_norm = nn.LayerNorm(num_hidden)\n",
    "\n",
    "    def forward(self, key, value, query):\n",
    "\n",
    "        batch_size = key.size(0)\n",
    "        seq_k = key.size(1)\n",
    "        seq_q = query.size(1)\n",
    "        residual = query\n",
    "        \n",
    "        # Make multihead\n",
    "        key = self.key(key).view(batch_size, seq_k, self.h, self.num_hidden_per_attn)\n",
    "        value = self.value(value).view(batch_size, seq_k, self.h, self.num_hidden_per_attn)\n",
    "        query = self.query(query).view(batch_size, seq_q, self.h, self.num_hidden_per_attn)\n",
    "\n",
    "        key = key.permute(2, 0, 1, 3).contiguous().view(-1, seq_k, self.num_hidden_per_attn)\n",
    "        value = value.permute(2, 0, 1, 3).contiguous().view(-1, seq_k, self.num_hidden_per_attn)\n",
    "        query = query.permute(2, 0, 1, 3).contiguous().view(-1, seq_q, self.num_hidden_per_attn)\n",
    "\n",
    "        # Get context vector\n",
    "        result, attns = self.multihead(key, value, query)\n",
    "\n",
    "        # Concatenate all multihead context vector\n",
    "        result = result.view(self.h, batch_size, seq_q, self.num_hidden_per_attn)\n",
    "        result = result.permute(1, 2, 0, 3).contiguous().view(batch_size, seq_q, -1)\n",
    "        \n",
    "        # Concatenate context vector with input (most important)\n",
    "        result = torch.cat([residual, result], dim=-1)\n",
    "        \n",
    "        # Final linear\n",
    "        result = self.final_linear(result)\n",
    "\n",
    "        # Residual dropout & connection\n",
    "        result = self.residual_dropout(result)\n",
    "        result = result + residual\n",
    "\n",
    "        # Layer normalization\n",
    "        result = self.layer_norm(result)\n",
    "\n",
    "        return result, attns"
   ]
  },
  {
   "cell_type": "markdown",
   "metadata": {},
   "source": [
    "## New"
   ]
  },
  {
   "cell_type": "markdown",
   "metadata": {},
   "source": [
    "```\n",
    "NP(8)(torch.ones([8,3,2]), torch.ones([8,5,1])).size()\n",
    "\n",
    "key torch.Size([8, 3, 1]) value torch.Size([8, 3, 8]) query torch.Size([8, 5, 1])\n",
    "result torch.Size([8, 5, 8]) attn torch.Size([8, 40, 24])\n",
    "```"
   ]
  },
  {
   "cell_type": "code",
   "execution_count": 17,
   "metadata": {},
   "outputs": [],
   "source": [
    "# implement setcnn https://github.com/YannDubs/Neural-Process-Family/blob/master/npf/architectures/setcnn.py\n",
    " \n",
    "def weights_init(module, **kwargs):\n",
    "    \"\"\"Initialize a module and all its descendents.\n",
    "    Parameters\n",
    "    ----------\n",
    "    module : nn.Module\n",
    "       module to initialize.\n",
    "    \"\"\"\n",
    "    module.is_resetted = True\n",
    "    for m in module.modules():\n",
    "        try:\n",
    "            if hasattr(module, \"reset_parameters\") and module.is_resetted:\n",
    "                # don't reset if resetted already (might want special)\n",
    "                continue\n",
    "        except AttributeError:\n",
    "            pass\n",
    " \n",
    "        if isinstance(m, torch.nn.modules.conv._ConvNd):\n",
    "            # used in https://github.com/brain-research/realistic-ssl-evaluation/\n",
    "            torch.nn.init.kaiming_normal_(m.weight, mode=\"fan_out\", **kwargs)\n",
    "        elif isinstance(m, nn.Linear):\n",
    "            linear_init(m, **kwargs)\n",
    "        elif isinstance(m, torch.nn.BatchNorm2d):\n",
    "            m.weight.data.fill_(1)\n",
    "            m.bias.data.zero_()\n",
    " \n",
    "def get_activation_name(activation):\n",
    "    \"\"\"Given a string or a `torch.nn.modules.activation` return the name of the activation.\"\"\"\n",
    "    if isinstance(activation, str):\n",
    "        return activation\n",
    " \n",
    "    mapper = {\n",
    "        torch.nn.LeakyReLU: \"leaky_relu\",\n",
    "        torch.nn.ReLU: \"relu\",\n",
    "        torch.nn.Tanh: \"tanh\",\n",
    "        torch.nn.Sigmoid: \"sigmoid\",\n",
    "        torch.nn.Softmax: \"sigmoid\",\n",
    "    }\n",
    "    for k, v in mapper.items():\n",
    "        if isinstance(activation, k):\n",
    "            return k\n",
    " \n",
    "    raise ValueError(\"Unkown given activation type : {}\".format(activation))\n",
    " \n",
    "def linear_init(module, activation=\"leaky_relu\"):\n",
    "    \"\"\"Initialize a linear layer.\n",
    "    Parameters\n",
    "    ----------\n",
    "    module : nn.Module\n",
    "       module to initialize.\n",
    "    activation : `torch.nn.modules.activation` or str, optional\n",
    "        Activation that will be used on the `module`.\n",
    "    \"\"\"\n",
    "    x = module.weight\n",
    " \n",
    "    if module.bias is not None:\n",
    "        module.bias.data.zero_()\n",
    " \n",
    "    if activation is None:\n",
    "        return torch.nn.init.xavier_uniform_(x)\n",
    " \n",
    "    activation_name = get_activation_name(activation)\n",
    " \n",
    "    if activation_name == \"leaky_relu\":\n",
    "        a = 0 if isinstance(activation, str) else activation.negative_slope\n",
    "        return torch.nn.init.kaiming_uniform_(x, a=a, nonlinearity=\"leaky_relu\")\n",
    "    elif activation_name == \"relu\":\n",
    "        return torch.nn.init.kaiming_uniform_(x, nonlinearity=\"relu\")\n",
    "    elif activation_name in [\"sigmoid\", \"tanh\"]:\n",
    "        return torch.nn.init.xavier_uniform_(x, gain=get_gain(activation))\n",
    " \n",
    "\n",
    "def get_gain(activation):\n",
    "    \"\"\"Given an object of `torch.nn.modules.activation` or an activation name\n",
    "    return the correct gain.\"\"\"\n",
    "    if activation is None:\n",
    "        return 1\n",
    " \n",
    "    activation_name = get_activation_name(activation)\n",
    " \n",
    "    param = None if activation_name != \"leaky_relu\" else activation.negative_slope\n",
    "    gain = torch.nn.init.calculate_gain(activation_name, param)\n",
    " \n",
    "    return gain\n",
    "\n",
    "\n",
    "class MLP(torch.nn.Module):\n",
    "    \"\"\"General MLP class.\n",
    "    Parameters\n",
    "    ----------\n",
    "    input_size: int\n",
    "    output_size: int\n",
    "    hidden_size: int, optional\n",
    "        Number of hidden neurones.\n",
    "    n_hidden_layers: int, optional\n",
    "        Number of hidden layers.\n",
    "    activation: callable, optional\n",
    "        Activation function. E.g. `nn.RelU()`.\n",
    "    is_bias: bool, optional\n",
    "        Whether to use biaises in the hidden layers.\n",
    "    dropout: float, optional\n",
    "        Dropout rate.\n",
    "    is_force_hid_smaller : bool, optional\n",
    "        Whether to force the hidden dimensions to be smaller or equal than in and out.\n",
    "        If not, it forces the hidden dimension to be larger or equal than in or out.\n",
    "    is_res : bool, optional\n",
    "        Whether to use residual connections.\n",
    "    \"\"\"\n",
    " \n",
    "    def __init__(\n",
    "        self,\n",
    "        input_size,\n",
    "        output_size,\n",
    "        hidden_size=32,\n",
    "        n_hidden_layers=1,\n",
    "        activation=torch.nn.LeakyReLU(),\n",
    "        is_bias=True,\n",
    "        dropout=0,\n",
    "        is_force_hid_smaller=False,\n",
    "        is_res=False,\n",
    "    ):\n",
    "        super().__init__()\n",
    " \n",
    "        self.input_size = input_size\n",
    "        self.output_size = output_size\n",
    "        self.hidden_size = hidden_size\n",
    "        self.n_hidden_layers = n_hidden_layers\n",
    "        self.is_res = is_res\n",
    " \n",
    "        if is_force_hid_smaller and self.hidden_size > max(\n",
    "            self.output_size, self.input_size\n",
    "        ):\n",
    "            self.hidden_size = max(self.output_size, self.input_size)\n",
    "            txt = \"hidden_size={} larger than output={} and input={}. Setting it to {}.\"\n",
    "            warnings.warn(\n",
    "                txt.format(hidden_size, output_size, input_size, self.hidden_size)\n",
    "            )\n",
    "        elif self.hidden_size < min(self.output_size, self.input_size):\n",
    "            self.hidden_size = min(self.output_size, self.input_size)\n",
    "            txt = (\n",
    "                \"hidden_size={} smaller than output={} and input={}. Setting it to {}.\"\n",
    "            )\n",
    "            warnings.warn(\n",
    "                txt.format(hidden_size, output_size, input_size, self.hidden_size)\n",
    "            )\n",
    " \n",
    "        self.dropout = torch.nn.Dropout(p=dropout) if dropout > 0 else torch.nn.Identity()\n",
    "        self.activation = activation\n",
    " \n",
    "        self.to_hidden = torch.nn.Linear(self.input_size, self.hidden_size, bias=is_bias)\n",
    "        self.linears = torch.nn.ModuleList(\n",
    "            [\n",
    "                torch.nn.Linear(self.hidden_size, self.hidden_size, bias=is_bias)\n",
    "                for _ in range(self.n_hidden_layers - 1)\n",
    "            ]\n",
    "        )\n",
    "        self.out = torch.nn.Linear(self.hidden_size, self.output_size, bias=is_bias)\n",
    " \n",
    "        self.reset_parameters()\n",
    " \n",
    "    def forward(self, x):\n",
    "        out = self.to_hidden(x)\n",
    "        out = self.activation(out)\n",
    "        x = self.dropout(out)\n",
    " \n",
    "        for linear in self.linears:\n",
    "            out = linear(x)\n",
    "            out = self.activation(out)\n",
    "            if self.is_res:\n",
    "                out = out + x\n",
    "            out = self.dropout(out)\n",
    "            x = out\n",
    " \n",
    "        out = self.out(x)\n",
    "        return out\n",
    " \n",
    "    def reset_parameters(self):\n",
    "        linear_init(self.to_hidden, activation=self.activation)\n",
    "        for lin in self.linears:\n",
    "            linear_init(lin, activation=self.activation)\n",
    "        linear_init(self.out)\n",
    "\n",
    "class NewMultiheadAttention(torch.nn.Module):\n",
    "    \"\"\"\n",
    "    Multihead attention mechanism (MLP kernel attention)\n",
    "    \"\"\"\n",
    "    def __init__(self, num_hidden, h, nn_dim):\n",
    "        super(NewMultiheadAttention, self).__init__()\n",
    "        print(\"NewMultiheadAttention\")\n",
    "        self.nn_dim = nn_dim\n",
    "        self.num_hidden = num_hidden\n",
    "        self.h = h\n",
    "        self.num_hidden_per_attn = num_hidden // h\n",
    "        self.attn_dropout = torch.nn.Dropout(p=0.1)\n",
    "        self.hl = MLP(self.nn_dim, self.num_hidden*self.h, hidden_size=32, n_hidden_layers=2, dropout=0) #h, h<-hidden \n",
    "        self.bias = torch.nn.Parameter(torch.zeros(self.h))        \n",
    "        \n",
    " \n",
    "    def reset_parameters(self):\n",
    "        weights_init(self)\n",
    " \n",
    "    def forward(self, key, value, query):\n",
    "        import pdb\n",
    "\n",
    "        batch_size = key.size(0)\n",
    "        seq_k = key.size(1)\n",
    "        seq_q = query.size(1)\n",
    " \n",
    "        # Make multihead\n",
    "        '''\n",
    "        key = key.view(batch_size, seq_k, self.h, self.num_hidden_per_attn)\n",
    "        value = value.view(batch_size, seq_k, self.h, self.num_hidden_per_attn)\n",
    "        query = query.view(batch_size, seq_q, self.h, self.num_hidden_per_attn)\n",
    " \n",
    "        key = key.permute(2, 0, 1, 3).contiguous().view(-1, seq_k, self.num_hidden_per_attn)\n",
    "        value = value.permute(2, 0, 1, 3).contiguous().view(-1, seq_k, self.num_hidden_per_attn)\n",
    "        query = query.permute(2, 0, 1, 3).contiguous().view(-1, seq_q, self.num_hidden_per_attn)\n",
    "        '''\n",
    " \n",
    "        # Get dot attention score\n",
    "        #attn = torch.bmm(query, key.transpose(1, 2))\n",
    " \n",
    "        # norm for cosine similarity\n",
    "        '''\n",
    "        norm_query = query.norm(p=2, dim=-1, keepdim=True)\n",
    "        norm_key = key.norm(p=2, dim=-1, keepdim=True)\n",
    "        attn = torch.bmm(query.div(norm_query.expand_as(query)), key.div(norm_key.expand_as(key)).transpose(1, 2))\n",
    "        '''\n",
    "        \n",
    "        # mlp for translation invariant kernel (experimental)\n",
    "        #batch_size * h , num_hidden // h, seq\n",
    " \n",
    "        '''\n",
    "        seq_length = attn.size()[-1]   \n",
    "        num_hidden_per_head = attn.size()[-2]\n",
    "        attn = attn.view(self.h, -1, num_hidden_per_head, seq_length).permute(1, 2, 3, 0).contiguous()\n",
    "        attn = self.hl(attn)\n",
    "        attn = attn.permute(3, 0, 1, 2).contiguous().view(-1, num_hidden_per_head, seq_length)\n",
    "        '''        \n",
    " \n",
    "        '''\n",
    "        attn = attn / math.sqrt(self.num_hidden_per_attn)\n",
    "        attn = torch.softmax(attn, dim=-1)\n",
    " \n",
    "        # Dropout\n",
    "        attn = self.attn_dropout(attn)\n",
    "        \n",
    "        # Get Context Vector\n",
    "        result = torch.bmm(attn, value)\n",
    "        \n",
    "        # Concatenate all multihead context vector\n",
    "        result = result.view(self.h, batch_size, seq_q, self.num_hidden_per_attn)\n",
    "        result = result.permute(1, 2, 0, 3).contiguous().view(batch_size, seq_q, -1)\n",
    "        '''\n",
    "        \n",
    "        # additive to mimic convolution with learable kernel (very experimental)\n",
    "        # 1. repeat for keys, queries\n",
    "        #pdb.set_trace()\n",
    "        key = key.view(batch_size, seq_k, 1, key.size(-1)).repeat([1, 1, seq_q, 1])  # TK n_dim -> key.size ...\n",
    "        query = query.view(batch_size, 1, seq_q, query.size(-1)).repeat([1, seq_k, 1, 1])  # TK\n",
    " \n",
    "        # 2. add matrices\n",
    "        #pdb.set_trace()\n",
    "        attn = key - query\n",
    " \n",
    "        # 3. MLP-> b x k x q x h x num_hidden\n",
    "        attn = self.hl(attn)\n",
    "        attn = attn.view(-1, seq_k, seq_q, self.h, self.num_hidden)\n",
    "        #attn = attn.permute(0, 2, 3, 4, 1).contiguous().view(-1, seq_q, self.h, self.num_hidden*seq_k)\n",
    "        #attn = attn / (self.num_hidden*seq_k)\n",
    "        #attn = torch.softmax(attn, dim=-1)\n",
    "        #attn = torch.tanh(attn)\n",
    "        #attn = attn.view(-1, seq_q, self.h, self.num_hidden, seq_k).permute(0, 2, 1, 3, 4).contiguous()\n",
    "        \n",
    "        # Do convolution\n",
    "        attn = attn.permute(0, 2, 3, 1, 4).contiguous().view(-1, seq_q*self.h, seq_k*self.num_hidden)\n",
    "        attn = attn / torch.sum(torch.abs(attn), dim=-1, keepdim=True)\n",
    "        value = value.view(-1, 1, seq_k*self.num_hidden) #TODO reshape\n",
    "        result = torch.bmm(attn, value.transpose(1, 2))\n",
    "        result = result.view(-1, seq_q, self.h)\n",
    "\n",
    "        # apply bias\n",
    "        result = result + self.bias\n",
    "        \n",
    "        batch_size = key.size(0)\n",
    "        return result, attn\n",
    "\n",
    "\n",
    "class NewAttention(torch.nn.Module):\n",
    "    \"\"\"\n",
    "    Attention Network\n",
    "    \"\"\"\n",
    "    def __init__(self, num_hidden, h=8):\n",
    "        \"\"\"\n",
    "        :param num_hidden: dimension of hidden\n",
    "        :param h: num of heads \n",
    "        \"\"\"\n",
    "        super(NewAttention, self).__init__()\n",
    "        print(\"NewAttention\")\n",
    "        self.num_hidden = num_hidden\n",
    "        self.num_hidden_per_attn = num_hidden // h\n",
    "        self.h = h\n",
    "\n",
    "        nn_dim = num_hidden\n",
    "        num_bn = self.num_hidden #num_hidden // 4\n",
    "        #self.key = torch.nn.Linear(num_hidden, nn_dim, bias=False)\n",
    "        self.value = torch.nn.Linear(num_hidden, num_bn, bias=False)\n",
    "        #self.query = torch.nn.Linear(num_hidden, nn_dim, bias=False)\n",
    " \n",
    "        self.multihead = NewMultiheadAttention(num_bn, self.h, nn_dim=nn_dim)\n",
    " \n",
    "        self.residual_dropout = torch.nn.Dropout(p=0.1)\n",
    " \n",
    "        #self.final_linear = torch.nn.Linear(num_hidden*2, num_hidden)\n",
    "        self.final_linear = torch.nn.Linear(self.h, num_hidden)\n",
    " \n",
    "        self.layer_norm1 = torch.nn.LayerNorm(num_hidden)\n",
    " \n",
    "        self.mlp = MLP(num_hidden, num_hidden)\n",
    "        self.layer_norm2 = torch.nn.LayerNorm(num_hidden) #num_hidden\n",
    "  \n",
    "    def reset_parameters(self):\n",
    "        weights_init(self)\n",
    " \n",
    "    def forward(self, key, query, value, residual):\n",
    "        batch_size = key.size(0)\n",
    "        seq_k = key.size(1)\n",
    "        seq_q = query.size(1)\n",
    "\n",
    "        #key = self.key(key)\n",
    "        value = self.value(value)\n",
    "        #query = self.query(query)\n",
    "\n",
    "        # value for bottleneck            \n",
    "        #value = self.layer_norm2(value)\n",
    "        #value = torch.nn.LeakyReLU()(value)\n",
    "\n",
    "        # Get context vector\n",
    "        result, attns = self.multihead(key, value, query)\n",
    "\n",
    "        # Concatenate context vector with input (most important)\n",
    "        #result = torch.cat([residual, result], dim=-1)\n",
    "\n",
    "        result = self.final_linear(result)\n",
    "\n",
    "        # Residual dropout & connection            \n",
    "        #result = self.residual_dropout(result)            \n",
    "        #result = self.layer_norm1(result)\n",
    "        result = torch.nn.LeakyReLU()(result) #LeakyReLU\n",
    "\n",
    "        scale = torch.sigmoid(self.mlp(torch.mean(result, 1, keepdim=True))) # extra from bottom\n",
    "        result = residual + result * scale\n",
    "\n",
    "        # Residual dropout & fully connected\n",
    "        '''\n",
    "        residual = result\n",
    "        result = self.mlp(result)\n",
    "        result = self.residual_dropout(result)\n",
    "        result = result + residual\n",
    "        result = self.layer_norm2(result)\n",
    "        '''\n",
    "\n",
    "        return result, attns        "
   ]
  },
  {
   "cell_type": "code",
   "execution_count": 18,
   "metadata": {},
   "outputs": [
    {
     "name": "stdout",
     "output_type": "stream",
     "text": [
      "NewAttention\n",
      "NewMultiheadAttention\n",
      "NewAttention\n",
      "NewMultiheadAttention\n",
      "NewAttention\n",
      "NewMultiheadAttention\n",
      "NewAttention\n",
      "NewMultiheadAttention\n",
      "NewAttention\n",
      "NewMultiheadAttention\n",
      "NewAttention\n",
      "NewMultiheadAttention\n",
      "NewAttention\n",
      "NewMultiheadAttention\n",
      "NewAttention\n",
      "NewMultiheadAttention\n"
     ]
    },
    {
     "name": "stderr",
     "output_type": "stream",
     "text": [
      "<ipython-input-17-9e050732d4d1>:144: UserWarning: hidden_size=32 smaller than output=512 and input=64. Setting it to 64.\n",
      "  warnings.warn(\n",
      "<ipython-input-17-9e050732d4d1>:144: UserWarning: hidden_size=32 smaller than output=64 and input=64. Setting it to 64.\n",
      "  warnings.warn(\n"
     ]
    }
   ],
   "source": [
    "model = LatentModel(64)\n",
    "model = model.train()"
   ]
  },
  {
   "cell_type": "code",
   "execution_count": 19,
   "metadata": {},
   "outputs": [
    {
     "data": {
      "text/plain": [
       "(torch.Size([640, 10, 1]), torch.Size([640, 10, 1]), torch.Size([640, 20, 1]))"
      ]
     },
     "execution_count": 19,
     "metadata": {},
     "output_type": "execute_result"
    }
   ],
   "source": [
    "context_x.shape, context_y.shape, queries_x.shape"
   ]
  },
  {
   "cell_type": "code",
   "execution_count": 20,
   "metadata": {},
   "outputs": [],
   "source": [
    "y_pred, kl, loss = model(context_x, context_y, queries_x, y)"
   ]
  },
  {
   "cell_type": "code",
   "execution_count": 21,
   "metadata": {},
   "outputs": [
    {
     "data": {
      "text/plain": [
       "torch.Size([640, 20, 1])"
      ]
     },
     "execution_count": 21,
     "metadata": {},
     "output_type": "execute_result"
    }
   ],
   "source": [
    "y_pred.shape"
   ]
  },
  {
   "cell_type": "code",
   "execution_count": 22,
   "metadata": {},
   "outputs": [],
   "source": [
    "class Model(pl.LightningModule):\n",
    "\n",
    "    def __init__(self):\n",
    "        super().__init__()\n",
    "        self.model = LatentModel(128)\n",
    "        #self.accuracy = pl.metrics.Accuracy()\n",
    "    \n",
    "    def forward(self, context_x, context_y, queries_x, y=None):\n",
    "\n",
    "        # in lightning, forward defines the prediction/inference actions\n",
    "        return self.model(context_x, context_y, queries_x, y)\n",
    "\n",
    "    def training_step(self, batch, batch_idx):\n",
    "\n",
    "        (context_x, context_y, queries_x), y = batch\n",
    "        y_pred, kl, loss = self.forward(context_x, context_y, queries_x, y)\n",
    "        \n",
    "        #self.accuracy(preds[:,0,0], y)\n",
    "        self.log('train_loss', loss)\n",
    "\n",
    "        return loss\n",
    "    \n",
    "    def validation_step(self, batch, batch_idx):\n",
    "        (context_x, context_y, queries_x), y = batch\n",
    "        y_pred, kl, loss = self.forward(context_x, context_y, queries_x, y)\n",
    "\n",
    "        self.log('valid_loss', loss)\n",
    "\n",
    "        return loss\n",
    "    \n",
    "    def training_epoch_end(self, outs):\n",
    "        # log epoch metric\n",
    "        pass #self.log('train_acc_epoch', self.accuracy.compute())\n",
    "        \n",
    "    def validation_epoch_end(self, outs):\n",
    "        # log epoch metric\n",
    "        pass #self.log('valid_acc_epoch', self.accuracy.compute())\n",
    "\n",
    "\n",
    "    def configure_optimizers(self):\n",
    "        optimizer = torch.optim.Adam(self.model.parameters(), lr=1e-3)  # TK\n",
    "\n",
    "        return optimizer"
   ]
  },
  {
   "cell_type": "code",
   "execution_count": 23,
   "metadata": {},
   "outputs": [],
   "source": [
    "mlf_logger = MLFlowLogger(\n",
    "    experiment_name=\"Default\",\n",
    "    tracking_uri=\"http://localhost:5000\"\n",
    ")"
   ]
  },
  {
   "cell_type": "code",
   "execution_count": 24,
   "metadata": {},
   "outputs": [
    {
     "name": "stdout",
     "output_type": "stream",
     "text": [
      "NewAttention\n",
      "NewMultiheadAttention\n",
      "NewAttention\n",
      "NewMultiheadAttention\n",
      "NewAttention\n",
      "NewMultiheadAttention\n",
      "NewAttention\n",
      "NewMultiheadAttention\n",
      "NewAttention\n",
      "NewMultiheadAttention\n",
      "NewAttention\n",
      "NewMultiheadAttention\n",
      "NewAttention\n",
      "NewMultiheadAttention\n",
      "NewAttention\n",
      "NewMultiheadAttention\n"
     ]
    },
    {
     "name": "stderr",
     "output_type": "stream",
     "text": [
      "<ipython-input-17-9e050732d4d1>:144: UserWarning: hidden_size=32 smaller than output=1024 and input=128. Setting it to 128.\n",
      "  warnings.warn(\n",
      "<ipython-input-17-9e050732d4d1>:144: UserWarning: hidden_size=32 smaller than output=128 and input=128. Setting it to 128.\n",
      "  warnings.warn(\n",
      "GPU available: True, used: True\n",
      "TPU available: None, using: 0 TPU cores\n",
      "LOCAL_RANK: 0 - CUDA_VISIBLE_DEVICES: [0]\n",
      "\n",
      "  | Name  | Type        | Params\n",
      "--------------------------------------\n",
      "0 | model | LatentModel | 1.9 M \n",
      "--------------------------------------\n",
      "1.9 M     Trainable params\n",
      "0         Non-trainable params\n",
      "1.9 M     Total params\n",
      "/home/fabiograetz/anaconda3/envs/pytorch/lib/python3.8/site-packages/pytorch_lightning/utilities/distributed.py:49: UserWarning: The dataloader, val dataloader 0, does not have many workers which may be a bottleneck. Consider increasing the value of the `num_workers` argument` (try 12 which is the number of cpus on this machine) in the `DataLoader` init to improve performance.\n",
      "  warnings.warn(*args, **kwargs)\n"
     ]
    },
    {
     "data": {
      "application/vnd.jupyter.widget-view+json": {
       "model_id": "",
       "version_major": 2,
       "version_minor": 0
      },
      "text/plain": [
       "Validation sanity check: |          | 0/? [00:00<?, ?it/s]"
      ]
     },
     "metadata": {},
     "output_type": "display_data"
    },
    {
     "name": "stderr",
     "output_type": "stream",
     "text": [
      "/home/fabiograetz/anaconda3/envs/pytorch/lib/python3.8/site-packages/pytorch_lightning/utilities/distributed.py:49: UserWarning: The dataloader, train dataloader, does not have many workers which may be a bottleneck. Consider increasing the value of the `num_workers` argument` (try 12 which is the number of cpus on this machine) in the `DataLoader` init to improve performance.\n",
      "  warnings.warn(*args, **kwargs)\n"
     ]
    },
    {
     "data": {
      "application/vnd.jupyter.widget-view+json": {
       "model_id": "5e7c0caddb5547b7be74e2e0d7a62581",
       "version_major": 2,
       "version_minor": 0
      },
      "text/plain": [
       "Training: |          | 0/? [00:00<?, ?it/s]"
      ]
     },
     "metadata": {},
     "output_type": "display_data"
    },
    {
     "data": {
      "application/vnd.jupyter.widget-view+json": {
       "model_id": "",
       "version_major": 2,
       "version_minor": 0
      },
      "text/plain": [
       "Validating: |          | 0/? [00:00<?, ?it/s]"
      ]
     },
     "metadata": {},
     "output_type": "display_data"
    },
    {
     "data": {
      "application/vnd.jupyter.widget-view+json": {
       "model_id": "",
       "version_major": 2,
       "version_minor": 0
      },
      "text/plain": [
       "Validating: |          | 0/? [00:00<?, ?it/s]"
      ]
     },
     "metadata": {},
     "output_type": "display_data"
    },
    {
     "data": {
      "application/vnd.jupyter.widget-view+json": {
       "model_id": "",
       "version_major": 2,
       "version_minor": 0
      },
      "text/plain": [
       "Validating: |          | 0/? [00:00<?, ?it/s]"
      ]
     },
     "metadata": {},
     "output_type": "display_data"
    },
    {
     "data": {
      "application/vnd.jupyter.widget-view+json": {
       "model_id": "",
       "version_major": 2,
       "version_minor": 0
      },
      "text/plain": [
       "Validating: |          | 0/? [00:00<?, ?it/s]"
      ]
     },
     "metadata": {},
     "output_type": "display_data"
    },
    {
     "data": {
      "application/vnd.jupyter.widget-view+json": {
       "model_id": "",
       "version_major": 2,
       "version_minor": 0
      },
      "text/plain": [
       "Validating: |          | 0/? [00:00<?, ?it/s]"
      ]
     },
     "metadata": {},
     "output_type": "display_data"
    },
    {
     "data": {
      "application/vnd.jupyter.widget-view+json": {
       "model_id": "",
       "version_major": 2,
       "version_minor": 0
      },
      "text/plain": [
       "Validating: |          | 0/? [00:00<?, ?it/s]"
      ]
     },
     "metadata": {},
     "output_type": "display_data"
    },
    {
     "data": {
      "application/vnd.jupyter.widget-view+json": {
       "model_id": "",
       "version_major": 2,
       "version_minor": 0
      },
      "text/plain": [
       "Validating: |          | 0/? [00:00<?, ?it/s]"
      ]
     },
     "metadata": {},
     "output_type": "display_data"
    },
    {
     "data": {
      "application/vnd.jupyter.widget-view+json": {
       "model_id": "",
       "version_major": 2,
       "version_minor": 0
      },
      "text/plain": [
       "Validating: |          | 0/? [00:00<?, ?it/s]"
      ]
     },
     "metadata": {},
     "output_type": "display_data"
    },
    {
     "data": {
      "application/vnd.jupyter.widget-view+json": {
       "model_id": "",
       "version_major": 2,
       "version_minor": 0
      },
      "text/plain": [
       "Validating: |          | 0/? [00:00<?, ?it/s]"
      ]
     },
     "metadata": {},
     "output_type": "display_data"
    },
    {
     "data": {
      "application/vnd.jupyter.widget-view+json": {
       "model_id": "",
       "version_major": 2,
       "version_minor": 0
      },
      "text/plain": [
       "Validating: |          | 0/? [00:00<?, ?it/s]"
      ]
     },
     "metadata": {},
     "output_type": "display_data"
    },
    {
     "data": {
      "application/vnd.jupyter.widget-view+json": {
       "model_id": "",
       "version_major": 2,
       "version_minor": 0
      },
      "text/plain": [
       "Validating: |          | 0/? [00:00<?, ?it/s]"
      ]
     },
     "metadata": {},
     "output_type": "display_data"
    },
    {
     "data": {
      "application/vnd.jupyter.widget-view+json": {
       "model_id": "",
       "version_major": 2,
       "version_minor": 0
      },
      "text/plain": [
       "Validating: |          | 0/? [00:00<?, ?it/s]"
      ]
     },
     "metadata": {},
     "output_type": "display_data"
    },
    {
     "data": {
      "application/vnd.jupyter.widget-view+json": {
       "model_id": "",
       "version_major": 2,
       "version_minor": 0
      },
      "text/plain": [
       "Validating: |          | 0/? [00:00<?, ?it/s]"
      ]
     },
     "metadata": {},
     "output_type": "display_data"
    },
    {
     "data": {
      "application/vnd.jupyter.widget-view+json": {
       "model_id": "",
       "version_major": 2,
       "version_minor": 0
      },
      "text/plain": [
       "Validating: |          | 0/? [00:00<?, ?it/s]"
      ]
     },
     "metadata": {},
     "output_type": "display_data"
    },
    {
     "data": {
      "application/vnd.jupyter.widget-view+json": {
       "model_id": "",
       "version_major": 2,
       "version_minor": 0
      },
      "text/plain": [
       "Validating: |          | 0/? [00:00<?, ?it/s]"
      ]
     },
     "metadata": {},
     "output_type": "display_data"
    },
    {
     "data": {
      "application/vnd.jupyter.widget-view+json": {
       "model_id": "",
       "version_major": 2,
       "version_minor": 0
      },
      "text/plain": [
       "Validating: |          | 0/? [00:00<?, ?it/s]"
      ]
     },
     "metadata": {},
     "output_type": "display_data"
    },
    {
     "data": {
      "application/vnd.jupyter.widget-view+json": {
       "model_id": "",
       "version_major": 2,
       "version_minor": 0
      },
      "text/plain": [
       "Validating: |          | 0/? [00:00<?, ?it/s]"
      ]
     },
     "metadata": {},
     "output_type": "display_data"
    },
    {
     "data": {
      "application/vnd.jupyter.widget-view+json": {
       "model_id": "",
       "version_major": 2,
       "version_minor": 0
      },
      "text/plain": [
       "Validating: |          | 0/? [00:00<?, ?it/s]"
      ]
     },
     "metadata": {},
     "output_type": "display_data"
    },
    {
     "data": {
      "application/vnd.jupyter.widget-view+json": {
       "model_id": "",
       "version_major": 2,
       "version_minor": 0
      },
      "text/plain": [
       "Validating: |          | 0/? [00:00<?, ?it/s]"
      ]
     },
     "metadata": {},
     "output_type": "display_data"
    },
    {
     "data": {
      "application/vnd.jupyter.widget-view+json": {
       "model_id": "",
       "version_major": 2,
       "version_minor": 0
      },
      "text/plain": [
       "Validating: |          | 0/? [00:00<?, ?it/s]"
      ]
     },
     "metadata": {},
     "output_type": "display_data"
    },
    {
     "data": {
      "application/vnd.jupyter.widget-view+json": {
       "model_id": "",
       "version_major": 2,
       "version_minor": 0
      },
      "text/plain": [
       "Validating: |          | 0/? [00:00<?, ?it/s]"
      ]
     },
     "metadata": {},
     "output_type": "display_data"
    },
    {
     "data": {
      "application/vnd.jupyter.widget-view+json": {
       "model_id": "",
       "version_major": 2,
       "version_minor": 0
      },
      "text/plain": [
       "Validating: |          | 0/? [00:00<?, ?it/s]"
      ]
     },
     "metadata": {},
     "output_type": "display_data"
    },
    {
     "data": {
      "application/vnd.jupyter.widget-view+json": {
       "model_id": "",
       "version_major": 2,
       "version_minor": 0
      },
      "text/plain": [
       "Validating: |          | 0/? [00:00<?, ?it/s]"
      ]
     },
     "metadata": {},
     "output_type": "display_data"
    },
    {
     "data": {
      "application/vnd.jupyter.widget-view+json": {
       "model_id": "",
       "version_major": 2,
       "version_minor": 0
      },
      "text/plain": [
       "Validating: |          | 0/? [00:00<?, ?it/s]"
      ]
     },
     "metadata": {},
     "output_type": "display_data"
    },
    {
     "data": {
      "application/vnd.jupyter.widget-view+json": {
       "model_id": "",
       "version_major": 2,
       "version_minor": 0
      },
      "text/plain": [
       "Validating: |          | 0/? [00:00<?, ?it/s]"
      ]
     },
     "metadata": {},
     "output_type": "display_data"
    },
    {
     "data": {
      "text/plain": [
       "1"
      ]
     },
     "execution_count": 24,
     "metadata": {},
     "output_type": "execute_result"
    }
   ],
   "source": [
    "pl_model = Model()\n",
    "trainer = pl.Trainer(max_epochs=25, gpus=1, logger=mlf_logger)\n",
    "trainer.fit(pl_model, dl_train, dl_valid)"
   ]
  },
  {
   "cell_type": "code",
   "execution_count": 55,
   "metadata": {},
   "outputs": [
    {
     "data": {
      "image/png": "[encoded data removed]",
      "text/plain": [
       "<Figure size 1440x720 with 1 Axes>"
      ]
     },
     "metadata": {
      "needs_background": "light"
     },
     "output_type": "display_data"
    }
   ],
   "source": [
    "pl_model.model = pl_model.model.eval()\n",
    "\n",
    "num_contexts = 15\n",
    "x_samples, y_samples, f = get_random_sinc_samples(num_samples=num_contexts)\n",
    "\n",
    "context_x, context_y = x_samples.unsqueeze(-1).unsqueeze(0), y_samples.unsqueeze(-1).unsqueeze(0)\n",
    "queries_x = torch.arange(-10, 10, .1).unsqueeze(-1).unsqueeze(0)\n",
    "\n",
    "with torch.no_grad():\n",
    "    y_pred, kl, loss = pl_model(context_x, context_y, queries_x, None)\n",
    "\n",
    "x = np.arange(-10, 10, .1)\n",
    "\n",
    "plt.figure(figsize = (20, 10))\n",
    "plt.plot(x, f(x))\n",
    "plt.scatter(context_x, context_y, c='r')\n",
    "plt.plot(queries_x[0,:,0], y_pred[0,:,0], c='g')\n",
    "plt.show()"
   ]
  },
  {
   "cell_type": "code",
   "execution_count": null,
   "metadata": {},
   "outputs": [],
   "source": []
  },
  {
   "cell_type": "code",
   "execution_count": null,
   "metadata": {},
   "outputs": [],
   "source": []
  },
  {
   "cell_type": "code",
   "execution_count": null,
   "metadata": {},
   "outputs": [],
   "source": []
  }
 ],
 "metadata": {
  "kernelspec": {
   "display_name": "pytorch",
   "language": "python",
   "name": "pytorch"
  },
  "language_info": {
   "codemirror_mode": {
    "name": "ipython",
    "version": 3
   },
   "file_extension": ".py",
   "mimetype": "text/x-python",
   "name": "python",
   "nbconvert_exporter": "python",
   "pygments_lexer": "ipython3",
   "version": "3.8.5"
  }
 },
 "nbformat": 4,
 "nbformat_minor": 4
}
