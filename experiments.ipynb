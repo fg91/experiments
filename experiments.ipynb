{
 "cells": [
  {
   "cell_type": "code",
   "execution_count": null,
   "metadata": {},
   "outputs": [],
   "source": [
    "from src.neural_process import NP\n",
    "from src.sinc_dataset import sinc, sample_ds, SincDataset\n",
    "from src.trainer import TrainModel\n",
    "import torch\n",
    "from torch.utils.data import DataLoader\n",
    "import pytorch_lightning as pl\n",
    "\n",
    "# TODO \n",
    "# support keys with more than one dim\n",
    "# implement kernel attention + viz\n",
    "# implement setconv attention\n",
    "# celeb dataset\n",
    "# gaussian process dataset\n",
    "# eval logic"
   ]
  },
  {
   "cell_type": "code",
   "execution_count": null,
   "metadata": {
    "colab": {
     "base_uri": "https://localhost:8080/",
     "height": 333,
     "referenced_widgets": [
      "0115e578ac864e8598c114b92d9b60c0",
      "eeb3b4d6d73f4f92877ab67fa8e83a99",
      "016f6e6395d3498fb5740cdb9d696048",
      "4dfbfad11423433c8cb216fe4624170a",
      "3e0a7e4d9fd446c5b18123f478e2d40e",
      "0070836ab3864b6eb6bf76ab6f9a75d4",
      "85940ed757504f92a570a3b85bcf6372",
      "278cc9e99b5749ad8e6b5f9d17ec9171"
     ]
    },
    "id": "EfmgmxoZqxZV",
    "outputId": "d4bece3f-f64b-490c-a420-3499ca756016"
   },
   "outputs": [],
   "source": [
    "# https://github.com/soobinseo/Attentive-Neural-Process\n",
    "num_context = 0\n",
    "num_y = 20*3\n",
    "model = NP()\n",
    "trainmodel = TrainModel(model)\n",
    "trainer = pl.Trainer(max_epochs=20, gpus=torch.cuda.device_count(), progress_bar_refresh_rate=20)\n",
    "trainer.fit(trainmodel, DataLoader(SincDataset(s=num_context+num_y), batch_size=128))"
   ]
  },
  {
   "cell_type": "code",
   "execution_count": null,
   "metadata": {
    "colab": {
     "base_uri": "https://localhost:8080/",
     "height": 283
    },
    "id": "P3GuiISN1lfa",
    "outputId": "4d844f2d-2d7f-4b1c-8497-c2759f6d3959"
   },
   "outputs": [],
   "source": [
    "import matplotlib.pyplot as plt\n",
    "\n",
    "plt.plot([a['loss'] for a in trainmodel.my_log])\n",
    "#plt.ylim(0, 0.1)"
   ]
  },
  {
   "cell_type": "code",
   "execution_count": null,
   "metadata": {
    "colab": {
     "base_uri": "https://localhost:8080/",
     "height": 287
    },
    "id": "nD_WTfnB2Yee",
    "outputId": "861304cb-fc8a-405b-e9be-3a520b3c8b83"
   },
   "outputs": [],
   "source": [
    "import numpy as np\n",
    "import torch\n",
    "import matplotlib.pyplot as plt\n",
    "\n",
    "xs = np.linspace(-1.25, 1.25, 100, dtype=np.float32)\n",
    "x, y, a = sample_ds(n=10)\n",
    " \n",
    "#gt\n",
    "plt.plot(xs, sinc(xs, a), 'g')\n",
    " \n",
    "# context\n",
    "#context = torch.cat([torch.tensor(x).view([-1, 1]), torch.tensor(y).view([-1, 1])], 1).view([1, -1, 2])[:, :model.num_y]\n",
    "#plt.scatter(x[:model.num_y], y[:model.num_y], c='g')\n",
    "context = torch.cat([torch.tensor(x).view([-1, 1]), torch.tensor(y).view([-1, 1])], 1).view([1, -1, 2])\n",
    "plt.scatter(x, y, c='g')\n",
    " \n",
    "# pred\n",
    "x_pred = []\n",
    "y_pred = []\n",
    "y_std_pred = []\n",
    "q = torch.tensor(xs).view([1, -1, 1])\n",
    "for i in range(q.size()[1]):\n",
    "    a_q = q[0:1, i:i+1, :]\n",
    "    ret_mu, ret_sigma = model(context, a_q)\n",
    "    x_pred.append(q[0, i, 0].detach().numpy())\n",
    "    y_pred.append(ret_mu[0, 0, 0].detach().numpy())\n",
    "    y_std_pred.append(ret_sigma[0, 0, 0].detach().numpy())\n",
    "\n",
    "plt.ylim([-1, 1])\n",
    "plt.axvline(x=-1, ls=':', c='black')\n",
    "plt.axvline(x=1, ls=':', c='black')\n",
    "plt.plot(x_pred, y_pred, c='r')\n",
    "plt.fill_between(x_pred, [y_pred[i]-y_std_pred[i] for i in range(len(x_pred))], [y_pred[i]+y_std_pred[i] for i in range(len(x_pred))], color='r', alpha=0.2)"
   ]
  },
  {
   "cell_type": "code",
   "execution_count": null,
   "metadata": {
    "colab": {
     "base_uri": "https://localhost:8080/",
     "height": 1000
    },
    "id": "oxeEnvbWqtwe",
    "outputId": "cd104df9-3224-4818-ab3f-ce38bbe8c73d"
   },
   "outputs": [],
   "source": [
    "#viz kernel fourier features\n",
    "for ca in list(model.cross_attentions): #z_attentions self_attentions\n",
    "    ca.multihead.viz_kernel_in_fourier_domain()"
   ]
  },
  {
   "cell_type": "code",
   "execution_count": null,
   "metadata": {
    "colab": {
     "base_uri": "https://localhost:8080/",
     "height": 1000
    },
    "id": "Gn5zx8mG5fC7",
    "outputId": "aa4c201d-fe8b-4b4b-fb09-cd8151f70368"
   },
   "outputs": [],
   "source": [
    "#viz kernel fourier features\n",
    "for ca in list(model.cross_attentions):#+list(model.self_attentions): #z_attentions self_attentions\n",
    "    ca.multihead.viz_kernel_in_spatial_domain()"
   ]
  },
  {
   "cell_type": "code",
   "execution_count": null,
   "metadata": {},
   "outputs": [],
   "source": []
  }
 ],
 "metadata": {
  "accelerator": "GPU",
  "colab": {
   "collapsed_sections": [],
   "name": "neural process ensemble.ipynb",
   "provenance": []
  },
  "kernelspec": {
   "display_name": "pytorch",
   "language": "python",
   "name": "pytorch"
  },
  "language_info": {
   "codemirror_mode": {
    "name": "ipython",
    "version": 3
   },
   "file_extension": ".py",
   "mimetype": "text/x-python",
   "name": "python",
   "nbconvert_exporter": "python",
   "pygments_lexer": "ipython3",
   "version": "3.8.5"
  },
  "widgets": {
   "application/vnd.jupyter.widget-state+json": {
    "0070836ab3864b6eb6bf76ab6f9a75d4": {
     "model_module": "@jupyter-widgets/base",
     "model_name": "LayoutModel",
     "state": {
      "_model_module": "@jupyter-widgets/base",
      "_model_module_version": "1.2.0",
      "_model_name": "LayoutModel",
      "_view_count": null,
      "_view_module": "@jupyter-widgets/base",
      "_view_module_version": "1.2.0",
      "_view_name": "LayoutView",
      "align_content": null,
      "align_items": null,
      "align_self": null,
      "border": null,
      "bottom": null,
      "display": null,
      "flex": "2",
      "flex_flow": null,
      "grid_area": null,
      "grid_auto_columns": null,
      "grid_auto_flow": null,
      "grid_auto_rows": null,
      "grid_column": null,
      "grid_gap": null,
      "grid_row": null,
      "grid_template_areas": null,
      "grid_template_columns": null,
      "grid_template_rows": null,
      "height": null,
      "justify_content": null,
      "justify_items": null,
      "left": null,
      "margin": null,
      "max_height": null,
      "max_width": null,
      "min_height": null,
      "min_width": null,
      "object_fit": null,
      "object_position": null,
      "order": null,
      "overflow": null,
      "overflow_x": null,
      "overflow_y": null,
      "padding": null,
      "right": null,
      "top": null,
      "visibility": null,
      "width": null
     }
    },
    "0115e578ac864e8598c114b92d9b60c0": {
     "model_module": "@jupyter-widgets/controls",
     "model_name": "HBoxModel",
     "state": {
      "_dom_classes": [],
      "_model_module": "@jupyter-widgets/controls",
      "_model_module_version": "1.5.0",
      "_model_name": "HBoxModel",
      "_view_count": null,
      "_view_module": "@jupyter-widgets/controls",
      "_view_module_version": "1.5.0",
      "_view_name": "HBoxView",
      "box_style": "",
      "children": [
       "IPY_MODEL_016f6e6395d3498fb5740cdb9d696048",
       "IPY_MODEL_4dfbfad11423433c8cb216fe4624170a"
      ],
      "layout": "IPY_MODEL_eeb3b4d6d73f4f92877ab67fa8e83a99"
     }
    },
    "016f6e6395d3498fb5740cdb9d696048": {
     "model_module": "@jupyter-widgets/controls",
     "model_name": "FloatProgressModel",
     "state": {
      "_dom_classes": [],
      "_model_module": "@jupyter-widgets/controls",
      "_model_module_version": "1.5.0",
      "_model_name": "FloatProgressModel",
      "_view_count": null,
      "_view_module": "@jupyter-widgets/controls",
      "_view_module_version": "1.5.0",
      "_view_name": "ProgressView",
      "bar_style": "danger",
      "description": "Epoch 4:  51%",
      "description_tooltip": null,
      "layout": "IPY_MODEL_0070836ab3864b6eb6bf76ab6f9a75d4",
      "max": 79,
      "min": 0,
      "orientation": "horizontal",
      "style": "IPY_MODEL_3e0a7e4d9fd446c5b18123f478e2d40e",
      "value": 40
     }
    },
    "278cc9e99b5749ad8e6b5f9d17ec9171": {
     "model_module": "@jupyter-widgets/base",
     "model_name": "LayoutModel",
     "state": {
      "_model_module": "@jupyter-widgets/base",
      "_model_module_version": "1.2.0",
      "_model_name": "LayoutModel",
      "_view_count": null,
      "_view_module": "@jupyter-widgets/base",
      "_view_module_version": "1.2.0",
      "_view_name": "LayoutView",
      "align_content": null,
      "align_items": null,
      "align_self": null,
      "border": null,
      "bottom": null,
      "display": null,
      "flex": null,
      "flex_flow": null,
      "grid_area": null,
      "grid_auto_columns": null,
      "grid_auto_flow": null,
      "grid_auto_rows": null,
      "grid_column": null,
      "grid_gap": null,
      "grid_row": null,
      "grid_template_areas": null,
      "grid_template_columns": null,
      "grid_template_rows": null,
      "height": null,
      "justify_content": null,
      "justify_items": null,
      "left": null,
      "margin": null,
      "max_height": null,
      "max_width": null,
      "min_height": null,
      "min_width": null,
      "object_fit": null,
      "object_position": null,
      "order": null,
      "overflow": null,
      "overflow_x": null,
      "overflow_y": null,
      "padding": null,
      "right": null,
      "top": null,
      "visibility": null,
      "width": null
     }
    },
    "3e0a7e4d9fd446c5b18123f478e2d40e": {
     "model_module": "@jupyter-widgets/controls",
     "model_name": "ProgressStyleModel",
     "state": {
      "_model_module": "@jupyter-widgets/controls",
      "_model_module_version": "1.5.0",
      "_model_name": "ProgressStyleModel",
      "_view_count": null,
      "_view_module": "@jupyter-widgets/base",
      "_view_module_version": "1.2.0",
      "_view_name": "StyleView",
      "bar_color": null,
      "description_width": "initial"
     }
    },
    "4dfbfad11423433c8cb216fe4624170a": {
     "model_module": "@jupyter-widgets/controls",
     "model_name": "HTMLModel",
     "state": {
      "_dom_classes": [],
      "_model_module": "@jupyter-widgets/controls",
      "_model_module_version": "1.5.0",
      "_model_name": "HTMLModel",
      "_view_count": null,
      "_view_module": "@jupyter-widgets/controls",
      "_view_module_version": "1.5.0",
      "_view_name": "HTMLView",
      "description": "",
      "description_tooltip": null,
      "layout": "IPY_MODEL_278cc9e99b5749ad8e6b5f9d17ec9171",
      "placeholder": "​",
      "style": "IPY_MODEL_85940ed757504f92a570a3b85bcf6372",
      "value": " 40/79 [00:02&lt;00:02, 13.37it/s, loss=-2.18, v_num=10]"
     }
    },
    "85940ed757504f92a570a3b85bcf6372": {
     "model_module": "@jupyter-widgets/controls",
     "model_name": "DescriptionStyleModel",
     "state": {
      "_model_module": "@jupyter-widgets/controls",
      "_model_module_version": "1.5.0",
      "_model_name": "DescriptionStyleModel",
      "_view_count": null,
      "_view_module": "@jupyter-widgets/base",
      "_view_module_version": "1.2.0",
      "_view_name": "StyleView",
      "description_width": ""
     }
    },
    "eeb3b4d6d73f4f92877ab67fa8e83a99": {
     "model_module": "@jupyter-widgets/base",
     "model_name": "LayoutModel",
     "state": {
      "_model_module": "@jupyter-widgets/base",
      "_model_module_version": "1.2.0",
      "_model_name": "LayoutModel",
      "_view_count": null,
      "_view_module": "@jupyter-widgets/base",
      "_view_module_version": "1.2.0",
      "_view_name": "LayoutView",
      "align_content": null,
      "align_items": null,
      "align_self": null,
      "border": null,
      "bottom": null,
      "display": "inline-flex",
      "flex": null,
      "flex_flow": "row wrap",
      "grid_area": null,
      "grid_auto_columns": null,
      "grid_auto_flow": null,
      "grid_auto_rows": null,
      "grid_column": null,
      "grid_gap": null,
      "grid_row": null,
      "grid_template_areas": null,
      "grid_template_columns": null,
      "grid_template_rows": null,
      "height": null,
      "justify_content": null,
      "justify_items": null,
      "left": null,
      "margin": null,
      "max_height": null,
      "max_width": null,
      "min_height": null,
      "min_width": null,
      "object_fit": null,
      "object_position": null,
      "order": null,
      "overflow": null,
      "overflow_x": null,
      "overflow_y": null,
      "padding": null,
      "right": null,
      "top": null,
      "visibility": null,
      "width": "100%"
     }
    }
   }
  }
 },
 "nbformat": 4,
 "nbformat_minor": 1
}
